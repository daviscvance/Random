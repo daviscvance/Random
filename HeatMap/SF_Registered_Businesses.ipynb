{
 "cells": [
  {
   "cell_type": "markdown",
   "metadata": {},
   "source": [
    "This is a fun exercise, I liked the heatmap so I had to share!"
   ]
  },
  {
   "cell_type": "markdown",
   "metadata": {},
   "source": [
    "#### Questions:\n",
    "1. Identify pockets in San Francisco with a high concentration of active businesses. Please provide visualization(s) to support your analysis.\n",
    "2. To promote growth in less popular industries in San Francisco, the county is offering a tax break for new businesses in these categories to encourage them set up shop in San Francisco. Identify the NAICS code and description of businesses that would benefit from this scheme.\n",
    "3. What are the different industry types that have emerged in San Francisco over the years. Are there any trends you can identify?\n",
    "4. If you had more time, what other conclusions might you be able to draw from this data? What interesting stories might you be able to tell?"
   ]
  },
  {
   "cell_type": "code",
   "execution_count": 8,
   "metadata": {
    "ExecuteTime": {
     "end_time": "2018-05-08T22:55:44.881682Z",
     "start_time": "2018-05-08T22:55:44.750559Z"
    },
    "scrolled": true
   },
   "outputs": [
    {
     "name": "stdout",
     "output_type": "stream",
     "text": [
      "\u001b[34mEmotion-detection\u001b[m\u001b[m              map_zoomed.png\r\n",
      "README.md                      settings.py\r\n",
      "SF_Registered_Businesses.ipynb sf_business_dataset.csv\r\n",
      "map.png\r\n"
     ]
    }
   ],
   "source": [
    "# Imports & Settings\n",
    "%run settings.py\n",
    "%matplotlib inline\n",
    "\n",
    "!ls"
   ]
  },
  {
   "cell_type": "code",
   "execution_count": 9,
   "metadata": {
    "ExecuteTime": {
     "end_time": "2018-05-08T22:55:56.416725Z",
     "start_time": "2018-05-08T22:55:45.104297Z"
    }
   },
   "outputs": [
    {
     "name": "stdout",
     "output_type": "stream",
     "text": [
      "<class 'pandas.core.frame.DataFrame'>\n",
      "RangeIndex: 216649 entries, 0 to 216648\n",
      "Data columns (total 26 columns):\n",
      "Location Id                            216649 non-null object\n",
      "Business Account Number                216649 non-null int64\n",
      "Ownership Name                         216649 non-null object\n",
      "DBA Name                               216649 non-null object\n",
      "Street Address                         216645 non-null object\n",
      "City                                   216380 non-null object\n",
      "State                                  215969 non-null object\n",
      "Source Zipcode                         216552 non-null float64\n",
      "Business Start Date                    216649 non-null datetime64[ns]\n",
      "Business End Date                      43979 non-null datetime64[ns]\n",
      "Location Start Date                    216649 non-null object\n",
      "Location End Date                      60244 non-null object\n",
      "Mail Address                           216647 non-null object\n",
      "Mail City                              216597 non-null object\n",
      "Mail Zipcode                           216519 non-null object\n",
      "Mail State                             216530 non-null object\n",
      "NAICS Code                             128933 non-null object\n",
      "NAICS Code Description                 126450 non-null object\n",
      "Parking Tax                            216649 non-null bool\n",
      "Transient Occupancy Tax                216649 non-null bool\n",
      "LIC Code                               9891 non-null object\n",
      "LIC Code Description                   9891 non-null object\n",
      "Supervisor District                    130802 non-null float64\n",
      "Neighborhoods - Analysis Boundaries    130797 non-null object\n",
      "Business Corridor                      266 non-null object\n",
      "Business Location                      175371 non-null object\n",
      "dtypes: bool(2), datetime64[ns](2), float64(2), int64(1), object(19)\n",
      "memory usage: 40.1+ MB\n"
     ]
    }
   ],
   "source": [
    "# Read data in, encoding error for utf-8\n",
    "df = pd.read_csv('sf_business_dataset.csv', encoding='latin-1', \n",
    "                 parse_dates=['Business Start Date', 'Business End Date'],\n",
    "                 infer_datetime_format=True)\n",
    "df.info()"
   ]
  },
  {
   "cell_type": "code",
   "execution_count": 10,
   "metadata": {
    "ExecuteTime": {
     "end_time": "2018-05-08T22:55:56.461828Z",
     "start_time": "2018-05-08T22:55:56.419297Z"
    }
   },
   "outputs": [
    {
     "data": {
      "text/html": [
       "<div>\n",
       "<style scoped>\n",
       "    .dataframe tbody tr th:only-of-type {\n",
       "        vertical-align: middle;\n",
       "    }\n",
       "\n",
       "    .dataframe tbody tr th {\n",
       "        vertical-align: top;\n",
       "    }\n",
       "\n",
       "    .dataframe thead th {\n",
       "        text-align: right;\n",
       "    }\n",
       "</style>\n",
       "<table border=\"1\" class=\"dataframe\">\n",
       "  <thead>\n",
       "    <tr style=\"text-align: right;\">\n",
       "      <th></th>\n",
       "      <th>Location Id</th>\n",
       "      <th>Business Account Number</th>\n",
       "      <th>Ownership Name</th>\n",
       "      <th>DBA Name</th>\n",
       "      <th>Street Address</th>\n",
       "      <th>City</th>\n",
       "      <th>State</th>\n",
       "      <th>Source Zipcode</th>\n",
       "      <th>Business Start Date</th>\n",
       "      <th>Business End Date</th>\n",
       "      <th>Location Start Date</th>\n",
       "      <th>Location End Date</th>\n",
       "      <th>Mail Address</th>\n",
       "      <th>Mail City</th>\n",
       "      <th>Mail Zipcode</th>\n",
       "      <th>Mail State</th>\n",
       "      <th>NAICS Code</th>\n",
       "      <th>NAICS Code Description</th>\n",
       "      <th>Parking Tax</th>\n",
       "      <th>Transient Occupancy Tax</th>\n",
       "      <th>LIC Code</th>\n",
       "      <th>LIC Code Description</th>\n",
       "      <th>Supervisor District</th>\n",
       "      <th>Neighborhoods - Analysis Boundaries</th>\n",
       "      <th>Business Corridor</th>\n",
       "      <th>Business Location</th>\n",
       "    </tr>\n",
       "  </thead>\n",
       "  <tbody>\n",
       "    <tr>\n",
       "      <th>0</th>\n",
       "      <td>0026883-11-001</td>\n",
       "      <td>26883</td>\n",
       "      <td>Chevron Texaco Corp</td>\n",
       "      <td>Chevron</td>\n",
       "      <td>2998 San Jose Av</td>\n",
       "      <td>San Francisco</td>\n",
       "      <td>CA</td>\n",
       "      <td>94112.0</td>\n",
       "      <td>1968-10-01</td>\n",
       "      <td>NaT</td>\n",
       "      <td>1/31/1977</td>\n",
       "      <td>NaN</td>\n",
       "      <td>6001 Bollinger Canyon Rd V2002</td>\n",
       "      <td>San Ramon</td>\n",
       "      <td>94583</td>\n",
       "      <td>CA</td>\n",
       "      <td>NaN</td>\n",
       "      <td>NaN</td>\n",
       "      <td>False</td>\n",
       "      <td>False</td>\n",
       "      <td>NaN</td>\n",
       "      <td>NaN</td>\n",
       "      <td>11.0</td>\n",
       "      <td>Oceanview/Merced/Ingleside</td>\n",
       "      <td>NaN</td>\n",
       "      <td>2998 SAN JOSE AV\\rSan Francisco, CA 94112\\r(37.711486, -122.45562)</td>\n",
       "    </tr>\n",
       "    <tr>\n",
       "      <th>1</th>\n",
       "      <td>0026883-12-001</td>\n",
       "      <td>26883</td>\n",
       "      <td>Chevron Texaco Corp</td>\n",
       "      <td>Chevron</td>\n",
       "      <td>301 Claremont Blvd</td>\n",
       "      <td>San Francisco</td>\n",
       "      <td>CA</td>\n",
       "      <td>94127.0</td>\n",
       "      <td>1968-10-01</td>\n",
       "      <td>NaT</td>\n",
       "      <td>1/31/1977</td>\n",
       "      <td>NaN</td>\n",
       "      <td>6001 Bollinger Canyon Rd V2002</td>\n",
       "      <td>San Ramon</td>\n",
       "      <td>94583</td>\n",
       "      <td>CA</td>\n",
       "      <td>NaN</td>\n",
       "      <td>NaN</td>\n",
       "      <td>False</td>\n",
       "      <td>False</td>\n",
       "      <td>NaN</td>\n",
       "      <td>NaN</td>\n",
       "      <td>7.0</td>\n",
       "      <td>West of Twin Peaks</td>\n",
       "      <td>NaN</td>\n",
       "      <td>301 CLAREMONT BLVD\\rSan Francisco, CA 94127\\r(37.7405, -122.465095)</td>\n",
       "    </tr>\n",
       "    <tr>\n",
       "      <th>216647</th>\n",
       "      <td>1148560-05-171</td>\n",
       "      <td>1064579</td>\n",
       "      <td>Outschool, Inc.</td>\n",
       "      <td>Outschool</td>\n",
       "      <td>645 7th St</td>\n",
       "      <td>San Francisco</td>\n",
       "      <td>CA</td>\n",
       "      <td>94103.0</td>\n",
       "      <td>2015-01-31</td>\n",
       "      <td>NaT</td>\n",
       "      <td>5/31/2017</td>\n",
       "      <td>NaN</td>\n",
       "      <td>645 7th St</td>\n",
       "      <td>San Francisco</td>\n",
       "      <td>94103</td>\n",
       "      <td>CA</td>\n",
       "      <td>5100-5199</td>\n",
       "      <td>Information</td>\n",
       "      <td>False</td>\n",
       "      <td>False</td>\n",
       "      <td>NaN</td>\n",
       "      <td>NaN</td>\n",
       "      <td>NaN</td>\n",
       "      <td>NaN</td>\n",
       "      <td>NaN</td>\n",
       "      <td>NaN</td>\n",
       "    </tr>\n",
       "    <tr>\n",
       "      <th>216648</th>\n",
       "      <td>1148606-05-171</td>\n",
       "      <td>1071093</td>\n",
       "      <td>Petru Vdovicenco</td>\n",
       "      <td>Itf Sf Taekwon-Do</td>\n",
       "      <td>2460 Sutter St</td>\n",
       "      <td>San Francisco</td>\n",
       "      <td>CA</td>\n",
       "      <td>94115.0</td>\n",
       "      <td>2017-05-31</td>\n",
       "      <td>NaT</td>\n",
       "      <td>5/31/2017</td>\n",
       "      <td>NaN</td>\n",
       "      <td>2460 Sutter St</td>\n",
       "      <td>San Francisco</td>\n",
       "      <td>94115</td>\n",
       "      <td>CA</td>\n",
       "      <td>NaN</td>\n",
       "      <td>NaN</td>\n",
       "      <td>False</td>\n",
       "      <td>False</td>\n",
       "      <td>NaN</td>\n",
       "      <td>NaN</td>\n",
       "      <td>NaN</td>\n",
       "      <td>NaN</td>\n",
       "      <td>NaN</td>\n",
       "      <td>NaN</td>\n",
       "    </tr>\n",
       "  </tbody>\n",
       "</table>\n",
       "</div>"
      ],
      "text/plain": [
       "           Location Id  Business Account Number       Ownership Name  \\\n",
       "0       0026883-11-001                    26883  Chevron Texaco Corp   \n",
       "1       0026883-12-001                    26883  Chevron Texaco Corp   \n",
       "216647  1148560-05-171                  1064579      Outschool, Inc.   \n",
       "216648  1148606-05-171                  1071093     Petru Vdovicenco   \n",
       "\n",
       "                 DBA Name      Street Address           City State  \\\n",
       "0                 Chevron    2998 San Jose Av  San Francisco    CA   \n",
       "1                 Chevron  301 Claremont Blvd  San Francisco    CA   \n",
       "216647          Outschool          645 7th St  San Francisco    CA   \n",
       "216648  Itf Sf Taekwon-Do      2460 Sutter St  San Francisco    CA   \n",
       "\n",
       "        Source Zipcode Business Start Date Business End Date  \\\n",
       "0              94112.0          1968-10-01               NaT   \n",
       "1              94127.0          1968-10-01               NaT   \n",
       "216647         94103.0          2015-01-31               NaT   \n",
       "216648         94115.0          2017-05-31               NaT   \n",
       "\n",
       "       Location Start Date Location End Date                    Mail Address  \\\n",
       "0                1/31/1977               NaN  6001 Bollinger Canyon Rd V2002   \n",
       "1                1/31/1977               NaN  6001 Bollinger Canyon Rd V2002   \n",
       "216647           5/31/2017               NaN                      645 7th St   \n",
       "216648           5/31/2017               NaN                  2460 Sutter St   \n",
       "\n",
       "            Mail City Mail Zipcode Mail State NAICS Code  \\\n",
       "0           San Ramon        94583         CA        NaN   \n",
       "1           San Ramon        94583         CA        NaN   \n",
       "216647  San Francisco        94103         CA  5100-5199   \n",
       "216648  San Francisco        94115         CA        NaN   \n",
       "\n",
       "       NAICS Code Description  Parking Tax  Transient Occupancy Tax LIC Code  \\\n",
       "0                         NaN        False                    False      NaN   \n",
       "1                         NaN        False                    False      NaN   \n",
       "216647            Information        False                    False      NaN   \n",
       "216648                    NaN        False                    False      NaN   \n",
       "\n",
       "       LIC Code Description  Supervisor District  \\\n",
       "0                       NaN                 11.0   \n",
       "1                       NaN                  7.0   \n",
       "216647                  NaN                  NaN   \n",
       "216648                  NaN                  NaN   \n",
       "\n",
       "       Neighborhoods - Analysis Boundaries Business Corridor  \\\n",
       "0               Oceanview/Merced/Ingleside               NaN   \n",
       "1                       West of Twin Peaks               NaN   \n",
       "216647                                 NaN               NaN   \n",
       "216648                                 NaN               NaN   \n",
       "\n",
       "                                                          Business Location  \n",
       "0        2998 SAN JOSE AV\\rSan Francisco, CA 94112\\r(37.711486, -122.45562)  \n",
       "1       301 CLAREMONT BLVD\\rSan Francisco, CA 94127\\r(37.7405, -122.465095)  \n",
       "216647                                                                  NaN  \n",
       "216648                                                                  NaN  "
      ]
     },
     "execution_count": 10,
     "metadata": {},
     "output_type": "execute_result"
    }
   ],
   "source": [
    "# Overview of df\n",
    "pd.concat([df.head(2), df.tail(2)])"
   ]
  },
  {
   "cell_type": "markdown",
   "metadata": {},
   "source": [
    "### Q1 \n",
    "1. Identify pockets in San Francisco with a high concentration of active businesses. Please provide visualization(s) to support your analysis."
   ]
  },
  {
   "cell_type": "code",
   "execution_count": 11,
   "metadata": {
    "ExecuteTime": {
     "end_time": "2018-05-08T22:55:56.516080Z",
     "start_time": "2018-05-08T22:55:56.464209Z"
    }
   },
   "outputs": [
    {
     "data": {
      "text/plain": [
       "San Francisco    154100\n",
       "San+francisco     14416\n",
       "Oakland            4073\n",
       "Daly+city          2605\n",
       "San+jose           1744\n",
       "Hayward            1234\n",
       "Richmond           1194\n",
       "Sacramento         1062\n",
       "San+mateo           831\n",
       "San+leandro         798\n",
       "                  ...  \n",
       "Honolulu              1\n",
       "Marin City            1\n",
       "Mira Loma             1\n",
       "San+ysidro            1\n",
       "Del+mar               1\n",
       "S Francisco           1\n",
       "Sunnyvake             1\n",
       "Medway                1\n",
       "San+mateo,            1\n",
       "Northwood             1\n",
       "Name: City, Length: 2336, dtype: int64"
      ]
     },
     "execution_count": 11,
     "metadata": {},
     "output_type": "execute_result"
    }
   ],
   "source": [
    "# Looking for just San Francisco\n",
    "df.City.value_counts()"
   ]
  },
  {
   "cell_type": "code",
   "execution_count": 12,
   "metadata": {
    "ExecuteTime": {
     "end_time": "2018-05-08T22:55:57.726877Z",
     "start_time": "2018-05-08T22:55:56.520378Z"
    },
    "scrolled": true
   },
   "outputs": [
    {
     "name": "stdout",
     "output_type": "stream",
     "text": [
      "san francisco    134925\n",
      "Name: City, dtype: int64\n"
     ]
    }
   ],
   "source": [
    "def clean_text(df, text_field):\n",
    "    ''' Cleans a column in a df '''\n",
    "    df[text_field] = df[text_field].str.replace(r\"+\", \" \")\n",
    "    df[text_field] = df[text_field].str.lower()\n",
    "\n",
    "# Conditions for finding San Francisco-like cities\n",
    "def san_franciscenize_geo(df):\n",
    "    ''' This cleans the data specifically for geolocation data '''\n",
    "    \n",
    "    # Looking at active businesses\n",
    "    df = df[df['Business End Date'].isnull()]\n",
    "    \n",
    "    # Cleaning City column\n",
    "    clean_text(df, 'City')\n",
    "    \n",
    "    # Matching SF businesses\n",
    "    mask = (df.City.str.startswith('san', na=False) & \n",
    "            df.City.str.contains('fran', na=False) &\n",
    "            ~df.City.str.contains('south', na=True)\n",
    "           )\n",
    "\n",
    "    # New dataframe with selected city of interest\n",
    "    df.City.where(~mask, 'san francisco', inplace=True)\n",
    "    df = df[df.City == 'san francisco']\n",
    "\n",
    "    # 2 Street Addresses are missing\n",
    "    df = df[~df['Street Address'].isnull()]\n",
    "\n",
    "    # Zipcodes will live within this range\n",
    "    mask = ((df['Source Zipcode'] >= 94102) & \n",
    "            (df['Source Zipcode'] <= 94188))\n",
    "    df = df[mask]\n",
    "    print(df.City.value_counts())\n",
    "\n",
    "    # State should be all CA by now\n",
    "    df.State = 'CA'\n",
    "    return df\n",
    "\n",
    "df = san_franciscenize_geo(df)"
   ]
  },
  {
   "cell_type": "code",
   "execution_count": 13,
   "metadata": {
    "ExecuteTime": {
     "end_time": "2018-05-08T22:55:58.554468Z",
     "start_time": "2018-05-08T22:55:57.729647Z"
    }
   },
   "outputs": [
    {
     "name": "stdout",
     "output_type": "stream",
     "text": [
      "Missing 16.4% of latitude longitude coordinates\n"
     ]
    }
   ],
   "source": [
    "# Getting the available latitude longitudes from the business location text\n",
    "def extract_coord(x):\n",
    "    try:\n",
    "        return re.search(r'\\(([0-9].*?)\\)', x).group(1).split(',')\n",
    "    except:\n",
    "        return None\n",
    "df['coord'] = df['Business Location'].apply(extract_coord)\n",
    "missing = sum(df.coord.isnull())/len(df.coord)*100\n",
    "print('Missing {:.1f}% of latitude longitude coordinates'.format(missing))\n",
    "\n",
    "# Reducing the dataframe to the location data\n",
    "locations = df.coord\n",
    "locations = locations[~locations.isnull()]\n",
    "locations = list(filter(lambda x: len(x) == 2, locations))\n",
    "\n",
    "# Collecting the latitudes and longitudes for plotting\n",
    "latitude, longitude = [float(x[0].strip()) for x in locations], \\\n",
    "                      [float(x[1].strip()) for x in locations]"
   ]
  },
  {
   "cell_type": "markdown",
   "metadata": {},
   "source": [
    "I wanted to convert street addresses to coordinates because there were coordinates missing. The process ended up taking too long so I used the above solution."
   ]
  },
  {
   "cell_type": "code",
   "execution_count": 14,
   "metadata": {
    "ExecuteTime": {
     "end_time": "2018-05-08T22:55:58.565934Z",
     "start_time": "2018-05-08T22:55:58.556676Z"
    }
   },
   "outputs": [],
   "source": [
    "# # Creating a full address for geocoding\n",
    "# locations = df[['Location Id', 'Street Address', 'City', 'State', 'Source Zipcode']]\n",
    "# locations['zipcode'] = locations['Source Zipcode'].astype(int).astype(str)\n",
    "# locations.drop('Source Zipcode', axis=1, inplace=True)\n",
    "# locations['address'] = locations['Street Address'] + ', San Francisco, CA ' + \\\n",
    "#                        locations['zipcode']\n",
    "\n",
    "    \n",
    "# # Method 1 for converting addresses to coordinates\n",
    "# from geopy.geocoders import Nominatim\n",
    "# geolocator = Nominatim()\n",
    "\n",
    "# def geocoder(x):\n",
    "#     try:\n",
    "#         result = geolocator.geocode(x)\n",
    "#         return (result.latitude, result.longitude)\n",
    "#     except:\n",
    "#         return None\n",
    "\n",
    "# locations['latlong'] = np.NaN\n",
    "# locations['latlong'] = list(map(geocoder, locations.address))\n",
    "\n",
    "# # Method 2\n",
    "# import googlemaps\n",
    "# gmaps = googlemaps.Client(key='API Key')\n",
    "# geocode_result = gmaps.geocode('1600 Amphitheatre Parkway, Mountain View, CA')\n",
    "\n",
    "# # Method 3\n",
    "# import requests\n",
    "# site = 'https://maps.googleapis.com/maps/api/geocode/json'\n",
    "# address = '?address=1600+Amphitheatre+Parkway,+Mountain+View,+CA'\n",
    "# response = requests.get(site+address)\n",
    "# resp_json_payload = response.json()\n",
    "# print(resp_json_payload['results'][0]['geometry']['location'])"
   ]
  },
  {
   "cell_type": "code",
   "execution_count": 15,
   "metadata": {
    "ExecuteTime": {
     "end_time": "2018-05-08T22:56:01.426577Z",
     "start_time": "2018-05-08T22:55:58.567968Z"
    }
   },
   "outputs": [],
   "source": [
    "# Can insert API key and run the last line `fig` for interactive visual\n",
    "gmaps.configure(api_key=\"API Key\")\n",
    "\n",
    "# Cropping output\n",
    "layout = {\n",
    "    'width': '700px',\n",
    "    'height': '700px',\n",
    "}\n",
    "\n",
    "# Creating basemap\n",
    "fig = gmaps.figure(center=(37.758, -122.44), zoom_level=12.5, layout=layout)\n",
    "\n",
    "# Plot data as heatmap\n",
    "heatmap_layer = gmaps.heatmap_layer(\n",
    "    list(zip(latitude, longitude)), max_intensity=100, point_radius=5)\n",
    "fig.add_layer(heatmap_layer)\n",
    "#fig # Screenshot provided"
   ]
  },
  {
   "cell_type": "markdown",
   "metadata": {},
   "source": [
    "Here is the above in a snapshot:\n",
    "![Map1](./map.png)"
   ]
  },
  {
   "cell_type": "code",
   "execution_count": 16,
   "metadata": {
    "ExecuteTime": {
     "end_time": "2018-05-08T22:56:01.433803Z",
     "start_time": "2018-05-08T22:56:01.429125Z"
    }
   },
   "outputs": [],
   "source": [
    "# Zooming in and out changes the scaling\n",
    "# These values can be modified in real time to provide a different view\n",
    "# hint: uncomment fig with API key\n",
    "heatmap_layer.max_intensity = 30\n",
    "heatmap_layer.point_radius = 3"
   ]
  },
  {
   "cell_type": "code",
   "execution_count": 17,
   "metadata": {
    "ExecuteTime": {
     "end_time": "2018-05-08T22:56:04.396659Z",
     "start_time": "2018-05-08T22:56:01.435928Z"
    }
   },
   "outputs": [],
   "source": [
    "# We can make different maps\n",
    "# Creating basemap\n",
    "fig = gmaps.figure(center=(37.758, -122.42), zoom_level=13.5, layout=layout)\n",
    "\n",
    "# Plot data as heatmap\n",
    "heatmap_layer = gmaps.heatmap_layer(\n",
    "    list(zip(latitude, longitude)), max_intensity=200, point_radius=15\n",
    ")\n",
    "fig.add_layer(heatmap_layer)\n",
    "#fig # Screenshot provided"
   ]
  },
  {
   "cell_type": "markdown",
   "metadata": {},
   "source": [
    "![Map-Zoomed](./map_zoomed.png)\n",
    "\n",
    "Looking through interactively, I found that there are pockets of strong activity in the following places: Haight-Ashbury, between 16th St Mission Bart and 24th St Mission Bart, Noe Valley, in the Castro, SFSU & UCSF, West Portal, Dogpatch, near AT&T Park, a bit in Hayes Valley, east of Cow Hollow, and Presidio Heights, but most businesses are in the Financial District and SOMA."
   ]
  },
  {
   "cell_type": "markdown",
   "metadata": {},
   "source": [
    "### Q2\n",
    "<span>2.</span> To promote growth in less popular industries in San Francisco, the county is offering a tax break for new businesses in these categories to encourage them set up shop in San Francisco. Identify the NAICS code and description of businesses that would benefit from this scheme."
   ]
  },
  {
   "cell_type": "code",
   "execution_count": 18,
   "metadata": {
    "ExecuteTime": {
     "end_time": "2018-05-08T22:56:18.106913Z",
     "start_time": "2018-05-08T22:56:04.399077Z"
    }
   },
   "outputs": [
    {
     "name": "stdout",
     "output_type": "stream",
     "text": [
      "san francisco    98336\n",
      "Name: City, dtype: int64\n"
     ]
    }
   ],
   "source": [
    "# Resetting data\n",
    "df = pd.read_csv('sf_business_dataset.csv', encoding='latin-1', \n",
    "                 parse_dates=['Business Start Date', 'Business End Date'],\n",
    "                 infer_datetime_format=True)\n",
    "\n",
    "# Conditions for finding San Francisco-like cities\n",
    "def san_franciscenize_cat(df):\n",
    "    ''' This preparess the data specifically for category data '''\n",
    "    \n",
    "    # Cleaning City column\n",
    "    clean_text(df, 'City')\n",
    "    \n",
    "    # Matching SF businesses\n",
    "    mask = (df.City.str.startswith('san', na=False) & \n",
    "            df.City.str.contains('fran', na=False) &\n",
    "            ~df.City.str.contains('south', na=True)\n",
    "           )\n",
    "\n",
    "    # New dataframe with selected city of interest\n",
    "    df.City.where(~mask, 'san francisco', inplace=True)\n",
    "    df = df[df.City == 'san francisco']\n",
    "    \n",
    "    # Valid categories selection\n",
    "    df = df[~df['NAICS Code'].isnull()]\n",
    "    df = df[df['Business Start Date'] <= '2018-01-01']\n",
    "    \n",
    "    print(df.City.value_counts())\n",
    "    return df\n",
    "\n",
    "df = san_franciscenize_cat(df)"
   ]
  },
  {
   "cell_type": "code",
   "execution_count": 19,
   "metadata": {
    "ExecuteTime": {
     "end_time": "2018-05-08T22:56:18.135546Z",
     "start_time": "2018-05-08T22:56:18.109669Z"
    }
   },
   "outputs": [
    {
     "data": {
      "text/html": [
       "<div>\n",
       "<style scoped>\n",
       "    .dataframe tbody tr th:only-of-type {\n",
       "        vertical-align: middle;\n",
       "    }\n",
       "\n",
       "    .dataframe tbody tr th {\n",
       "        vertical-align: top;\n",
       "    }\n",
       "\n",
       "    .dataframe thead th {\n",
       "        text-align: right;\n",
       "    }\n",
       "</style>\n",
       "<table border=\"1\" class=\"dataframe\">\n",
       "  <thead>\n",
       "    <tr style=\"text-align: right;\">\n",
       "      <th></th>\n",
       "      <th>Business Account Number</th>\n",
       "      <th>Business Start Date</th>\n",
       "      <th>Business End Date</th>\n",
       "      <th>NAICS Code</th>\n",
       "      <th>NAICS Code Description</th>\n",
       "      <th>LIC Code</th>\n",
       "      <th>LIC Code Description</th>\n",
       "    </tr>\n",
       "  </thead>\n",
       "  <tbody>\n",
       "    <tr>\n",
       "      <th>17</th>\n",
       "      <td>26924</td>\n",
       "      <td>1968-10-01</td>\n",
       "      <td>NaT</td>\n",
       "      <td>2300-2399</td>\n",
       "      <td>Construction</td>\n",
       "      <td>NaN</td>\n",
       "      <td>NaN</td>\n",
       "    </tr>\n",
       "    <tr>\n",
       "      <th>18</th>\n",
       "      <td>26924</td>\n",
       "      <td>1968-10-01</td>\n",
       "      <td>NaT</td>\n",
       "      <td>2300-2399</td>\n",
       "      <td>Construction</td>\n",
       "      <td>NaN</td>\n",
       "      <td>NaN</td>\n",
       "    </tr>\n",
       "    <tr>\n",
       "      <th>19</th>\n",
       "      <td>27082</td>\n",
       "      <td>1968-10-01</td>\n",
       "      <td>NaT</td>\n",
       "      <td>4200-4299</td>\n",
       "      <td>Wholesale Trade</td>\n",
       "      <td>NaN</td>\n",
       "      <td>NaN</td>\n",
       "    </tr>\n",
       "  </tbody>\n",
       "</table>\n",
       "</div>"
      ],
      "text/plain": [
       "    Business Account Number Business Start Date Business End Date NAICS Code  \\\n",
       "17                    26924          1968-10-01               NaT  2300-2399   \n",
       "18                    26924          1968-10-01               NaT  2300-2399   \n",
       "19                    27082          1968-10-01               NaT  4200-4299   \n",
       "\n",
       "   NAICS Code Description LIC Code LIC Code Description  \n",
       "17           Construction      NaN                  NaN  \n",
       "18           Construction      NaN                  NaN  \n",
       "19        Wholesale Trade      NaN                  NaN  "
      ]
     },
     "execution_count": 19,
     "metadata": {},
     "output_type": "execute_result"
    }
   ],
   "source": [
    "naics = df[['Business Account Number', 'Business Start Date', \n",
    "            'Business End Date', 'NAICS Code', 'NAICS Code Description',\n",
    "            'LIC Code', 'LIC Code Description']]\n",
    "naics.head(3)"
   ]
  },
  {
   "cell_type": "code",
   "execution_count": 20,
   "metadata": {
    "ExecuteTime": {
     "end_time": "2018-05-08T22:56:18.560130Z",
     "start_time": "2018-05-08T22:56:18.138095Z"
    }
   },
   "outputs": [
    {
     "data": {
      "text/html": [
       "<div>\n",
       "<style scoped>\n",
       "    .dataframe tbody tr th:only-of-type {\n",
       "        vertical-align: middle;\n",
       "    }\n",
       "\n",
       "    .dataframe tbody tr th {\n",
       "        vertical-align: top;\n",
       "    }\n",
       "\n",
       "    .dataframe thead th {\n",
       "        text-align: right;\n",
       "    }\n",
       "</style>\n",
       "<table border=\"1\" class=\"dataframe\">\n",
       "  <thead>\n",
       "    <tr style=\"text-align: right;\">\n",
       "      <th></th>\n",
       "      <th>count</th>\n",
       "      <th>unique</th>\n",
       "      <th>nunique</th>\n",
       "    </tr>\n",
       "    <tr>\n",
       "      <th>NAICS Code</th>\n",
       "      <th></th>\n",
       "      <th></th>\n",
       "      <th></th>\n",
       "    </tr>\n",
       "  </thead>\n",
       "  <tbody>\n",
       "    <tr>\n",
       "      <th>2200-2299</th>\n",
       "      <td>106</td>\n",
       "      <td>[Utilities]</td>\n",
       "      <td>1</td>\n",
       "    </tr>\n",
       "    <tr>\n",
       "      <th>2300-2399</th>\n",
       "      <td>5273</td>\n",
       "      <td>[Construction]</td>\n",
       "      <td>1</td>\n",
       "    </tr>\n",
       "    <tr>\n",
       "      <th>3100-3399</th>\n",
       "      <td>1384</td>\n",
       "      <td>[Manufacturing]</td>\n",
       "      <td>1</td>\n",
       "    </tr>\n",
       "    <tr>\n",
       "      <th>4200-4299</th>\n",
       "      <td>2662</td>\n",
       "      <td>[Wholesale Trade]</td>\n",
       "      <td>1</td>\n",
       "    </tr>\n",
       "    <tr>\n",
       "      <th>4400-4599</th>\n",
       "      <td>9454</td>\n",
       "      <td>[Retail Trade]</td>\n",
       "      <td>1</td>\n",
       "    </tr>\n",
       "    <tr>\n",
       "      <th>4800-4999</th>\n",
       "      <td>8145</td>\n",
       "      <td>[Transportation and Warehousing]</td>\n",
       "      <td>1</td>\n",
       "    </tr>\n",
       "    <tr>\n",
       "      <th>5100-5199</th>\n",
       "      <td>2719</td>\n",
       "      <td>[Information]</td>\n",
       "      <td>1</td>\n",
       "    </tr>\n",
       "    <tr>\n",
       "      <th>5210-5239</th>\n",
       "      <td>3187</td>\n",
       "      <td>[Financial Services]</td>\n",
       "      <td>1</td>\n",
       "    </tr>\n",
       "    <tr>\n",
       "      <th>5240-5249</th>\n",
       "      <td>528</td>\n",
       "      <td>[Insurance]</td>\n",
       "      <td>1</td>\n",
       "    </tr>\n",
       "    <tr>\n",
       "      <th>5300-5399</th>\n",
       "      <td>19828</td>\n",
       "      <td>[Real Estate and Rental and Leasing Services]</td>\n",
       "      <td>1</td>\n",
       "    </tr>\n",
       "    <tr>\n",
       "      <th>5400-5499</th>\n",
       "      <td>16821</td>\n",
       "      <td>[Professional, Scientific, and Technical Services]</td>\n",
       "      <td>1</td>\n",
       "    </tr>\n",
       "    <tr>\n",
       "      <th>5600-5699</th>\n",
       "      <td>2506</td>\n",
       "      <td>[Administrative and Support Services]</td>\n",
       "      <td>1</td>\n",
       "    </tr>\n",
       "    <tr>\n",
       "      <th>6100-6299</th>\n",
       "      <td>5743</td>\n",
       "      <td>[Private Education and Health Services]</td>\n",
       "      <td>1</td>\n",
       "    </tr>\n",
       "    <tr>\n",
       "      <th>7100-7199</th>\n",
       "      <td>5232</td>\n",
       "      <td>[Arts, Entertainment, and Recreation]</td>\n",
       "      <td>1</td>\n",
       "    </tr>\n",
       "    <tr>\n",
       "      <th>7210-7219</th>\n",
       "      <td>3781</td>\n",
       "      <td>[Accommodations ]</td>\n",
       "      <td>1</td>\n",
       "    </tr>\n",
       "    <tr>\n",
       "      <th>7220-7229</th>\n",
       "      <td>7932</td>\n",
       "      <td>[Food Services]</td>\n",
       "      <td>1</td>\n",
       "    </tr>\n",
       "    <tr>\n",
       "      <th>8100-8139</th>\n",
       "      <td>0</td>\n",
       "      <td>[nan]</td>\n",
       "      <td>0</td>\n",
       "    </tr>\n",
       "    <tr>\n",
       "      <th>8100-8399</th>\n",
       "      <td>688</td>\n",
       "      <td>[Certain Services]</td>\n",
       "      <td>1</td>\n",
       "    </tr>\n",
       "    <tr>\n",
       "      <th>8110-8139</th>\n",
       "      <td>74</td>\n",
       "      <td>[Certain Services]</td>\n",
       "      <td>1</td>\n",
       "    </tr>\n",
       "  </tbody>\n",
       "</table>\n",
       "</div>"
      ],
      "text/plain": [
       "            count                                              unique  nunique\n",
       "NAICS Code                                                                    \n",
       "2200-2299     106                                         [Utilities]        1\n",
       "2300-2399    5273                                      [Construction]        1\n",
       "3100-3399    1384                                     [Manufacturing]        1\n",
       "4200-4299    2662                                   [Wholesale Trade]        1\n",
       "4400-4599    9454                                      [Retail Trade]        1\n",
       "4800-4999    8145                    [Transportation and Warehousing]        1\n",
       "5100-5199    2719                                       [Information]        1\n",
       "5210-5239    3187                                [Financial Services]        1\n",
       "5240-5249     528                                         [Insurance]        1\n",
       "5300-5399   19828       [Real Estate and Rental and Leasing Services]        1\n",
       "5400-5499   16821  [Professional, Scientific, and Technical Services]        1\n",
       "5600-5699    2506               [Administrative and Support Services]        1\n",
       "6100-6299    5743             [Private Education and Health Services]        1\n",
       "7100-7199    5232               [Arts, Entertainment, and Recreation]        1\n",
       "7210-7219    3781                                   [Accommodations ]        1\n",
       "7220-7229    7932                                     [Food Services]        1\n",
       "8100-8139       0                                               [nan]        0\n",
       "8100-8399     688                                  [Certain Services]        1\n",
       "8110-8139      74                                  [Certain Services]        1"
      ]
     },
     "execution_count": 20,
     "metadata": {},
     "output_type": "execute_result"
    }
   ],
   "source": [
    "# Creating an age column\n",
    "now = datetime.datetime.now()\n",
    "naics['Business End Date'] = pd.to_datetime(naics['Business End Date'].fillna(now))\n",
    "naics['age'] = ((naics['Business End Date']-naics['Business Start Date'])/np.timedelta64(1, 'D')).astype(int)\n",
    "\n",
    "# Checking data quality\n",
    "naics.groupby('NAICS Code')['NAICS Code Description'].agg(['count', 'unique', 'nunique'])"
   ]
  },
  {
   "cell_type": "code",
   "execution_count": 21,
   "metadata": {
    "ExecuteTime": {
     "end_time": "2018-05-08T22:56:18.831175Z",
     "start_time": "2018-05-08T22:56:18.564174Z"
    }
   },
   "outputs": [
    {
     "data": {
      "text/html": [
       "<div>\n",
       "<style scoped>\n",
       "    .dataframe tbody tr th:only-of-type {\n",
       "        vertical-align: middle;\n",
       "    }\n",
       "\n",
       "    .dataframe tbody tr th {\n",
       "        vertical-align: top;\n",
       "    }\n",
       "\n",
       "    .dataframe thead th {\n",
       "        text-align: right;\n",
       "    }\n",
       "</style>\n",
       "<table border=\"1\" class=\"dataframe\">\n",
       "  <thead>\n",
       "    <tr style=\"text-align: right;\">\n",
       "      <th></th>\n",
       "      <th>count</th>\n",
       "      <th>unique</th>\n",
       "    </tr>\n",
       "    <tr>\n",
       "      <th>NAICS Code</th>\n",
       "      <th></th>\n",
       "      <th></th>\n",
       "    </tr>\n",
       "  </thead>\n",
       "  <tbody>\n",
       "    <tr>\n",
       "      <th>2200-2299</th>\n",
       "      <td>106</td>\n",
       "      <td>[Utilities]</td>\n",
       "    </tr>\n",
       "    <tr>\n",
       "      <th>2300-2399</th>\n",
       "      <td>5273</td>\n",
       "      <td>[Construction]</td>\n",
       "    </tr>\n",
       "    <tr>\n",
       "      <th>3100-3399</th>\n",
       "      <td>1384</td>\n",
       "      <td>[Manufacturing]</td>\n",
       "    </tr>\n",
       "    <tr>\n",
       "      <th>4200-4299</th>\n",
       "      <td>2662</td>\n",
       "      <td>[Wholesale Trade]</td>\n",
       "    </tr>\n",
       "    <tr>\n",
       "      <th>4400-4599</th>\n",
       "      <td>9454</td>\n",
       "      <td>[Retail Trade]</td>\n",
       "    </tr>\n",
       "    <tr>\n",
       "      <th>4800-4999</th>\n",
       "      <td>8145</td>\n",
       "      <td>[Transportation and Warehousing]</td>\n",
       "    </tr>\n",
       "    <tr>\n",
       "      <th>5100-5199</th>\n",
       "      <td>2719</td>\n",
       "      <td>[Information]</td>\n",
       "    </tr>\n",
       "    <tr>\n",
       "      <th>5210-5239</th>\n",
       "      <td>3187</td>\n",
       "      <td>[Financial Services]</td>\n",
       "    </tr>\n",
       "    <tr>\n",
       "      <th>5240-5249</th>\n",
       "      <td>528</td>\n",
       "      <td>[Insurance]</td>\n",
       "    </tr>\n",
       "    <tr>\n",
       "      <th>5300-5399</th>\n",
       "      <td>19828</td>\n",
       "      <td>[Real Estate and Rental and Leasing Services]</td>\n",
       "    </tr>\n",
       "    <tr>\n",
       "      <th>5400-5499</th>\n",
       "      <td>16821</td>\n",
       "      <td>[Professional, Scientific, and Technical Services]</td>\n",
       "    </tr>\n",
       "    <tr>\n",
       "      <th>5600-5699</th>\n",
       "      <td>2506</td>\n",
       "      <td>[Administrative and Support Services]</td>\n",
       "    </tr>\n",
       "    <tr>\n",
       "      <th>6100-6299</th>\n",
       "      <td>5743</td>\n",
       "      <td>[Private Education and Health Services]</td>\n",
       "    </tr>\n",
       "    <tr>\n",
       "      <th>7100-7199</th>\n",
       "      <td>5232</td>\n",
       "      <td>[Arts, Entertainment, and Recreation]</td>\n",
       "    </tr>\n",
       "    <tr>\n",
       "      <th>7210-7219</th>\n",
       "      <td>3781</td>\n",
       "      <td>[Accommodations ]</td>\n",
       "    </tr>\n",
       "    <tr>\n",
       "      <th>7220-7229</th>\n",
       "      <td>7932</td>\n",
       "      <td>[Food Services]</td>\n",
       "    </tr>\n",
       "    <tr>\n",
       "      <th>8100-8399</th>\n",
       "      <td>3035</td>\n",
       "      <td>[Certain Services]</td>\n",
       "    </tr>\n",
       "  </tbody>\n",
       "</table>\n",
       "</div>"
      ],
      "text/plain": [
       "            count                                              unique\n",
       "NAICS Code                                                           \n",
       "2200-2299     106                                         [Utilities]\n",
       "2300-2399    5273                                      [Construction]\n",
       "3100-3399    1384                                     [Manufacturing]\n",
       "4200-4299    2662                                   [Wholesale Trade]\n",
       "4400-4599    9454                                      [Retail Trade]\n",
       "4800-4999    8145                    [Transportation and Warehousing]\n",
       "5100-5199    2719                                       [Information]\n",
       "5210-5239    3187                                [Financial Services]\n",
       "5240-5249     528                                         [Insurance]\n",
       "5300-5399   19828       [Real Estate and Rental and Leasing Services]\n",
       "5400-5499   16821  [Professional, Scientific, and Technical Services]\n",
       "5600-5699    2506               [Administrative and Support Services]\n",
       "6100-6299    5743             [Private Education and Health Services]\n",
       "7100-7199    5232               [Arts, Entertainment, and Recreation]\n",
       "7210-7219    3781                                   [Accommodations ]\n",
       "7220-7229    7932                                     [Food Services]\n",
       "8100-8399    3035                                  [Certain Services]"
      ]
     },
     "execution_count": 21,
     "metadata": {},
     "output_type": "execute_result"
    }
   ],
   "source": [
    "# Categories 8100-8139, 8100-8399, 8110-8139 appear to be the same\n",
    "# Aggregating these codes\n",
    "mask = ((naics['NAICS Code'] == '8100-8139') |\n",
    "        (naics['NAICS Code'] == '8110-8139') |\n",
    "        (naics['NAICS Code'] == '8100-8399'))\n",
    "\n",
    "naics['NAICS Code Description'].where(~mask, other='Certain Services', inplace=True)\n",
    "naics['NAICS Code'].where(~mask, other='8100-8399', inplace=True)\n",
    "aggregation = naics.groupby('NAICS Code')['NAICS Code Description'] \\\n",
    "                   .agg(['count', 'unique'])\n",
    "aggregation"
   ]
  },
  {
   "cell_type": "code",
   "execution_count": 22,
   "metadata": {
    "ExecuteTime": {
     "end_time": "2018-05-08T22:56:19.378001Z",
     "start_time": "2018-05-08T22:56:18.834303Z"
    }
   },
   "outputs": [
    {
     "data": {
      "image/png": "[encoded data removed]",
      "text/plain": [
       "<matplotlib.figure.Figure at 0x1254b3908>"
      ]
     },
     "metadata": {},
     "output_type": "display_data"
    }
   ],
   "source": [
    "(aggregation['count'].sort_values(ascending=False)\n",
    "                     .plot(\n",
    "                         x=aggregation.index, y='count',\n",
    "                         kind='bar', figsize=(10,5),\n",
    "                         rot=70, title='Businesses Per Category',\n",
    "                         legend=False, sort_columns=True, \n",
    "                     )\n",
    ");"
   ]
  },
  {
   "cell_type": "markdown",
   "metadata": {},
   "source": [
    "Below is a table of the lowest ranking categories:\n",
    "\n",
    "NAICS Code| Count | Description\n",
    "--- | --- | ---\n",
    "2200-2299 | 106 | [Utilities]\n",
    "5240-5249 |\t528 | [Insurance]\n",
    "3100-3399 |\t1384 | [Manufacturing]\n",
    "5600-5699 |\t2506 |\t[Administrative and Support Services]\n",
    "4200-4299 |\t2662 |\t[Wholesale Trade]\n",
    "5100-5199 |\t2719 |\t[Information]\n",
    "\n",
    "Unsurprisingly, Utilities and Manufacturing are low ranking, likely due to the nature of the business. Tax breaks could sufficiently incentivize new insurance companies, wholesale traders, and information companies to bring new business to the City."
   ]
  },
  {
   "cell_type": "markdown",
   "metadata": {},
   "source": [
    "### Q3\n",
    "<span> 3. </span> What are the different industry types that have emerged in San Francisco over the years. Are there any trends you can identify?"
   ]
  },
  {
   "cell_type": "code",
   "execution_count": 23,
   "metadata": {
    "ExecuteTime": {
     "end_time": "2018-05-08T22:56:19.404600Z",
     "start_time": "2018-05-08T22:56:19.382021Z"
    }
   },
   "outputs": [
    {
     "data": {
      "text/html": [
       "<div>\n",
       "<style scoped>\n",
       "    .dataframe tbody tr th:only-of-type {\n",
       "        vertical-align: middle;\n",
       "    }\n",
       "\n",
       "    .dataframe tbody tr th {\n",
       "        vertical-align: top;\n",
       "    }\n",
       "\n",
       "    .dataframe thead th {\n",
       "        text-align: right;\n",
       "    }\n",
       "</style>\n",
       "<table border=\"1\" class=\"dataframe\">\n",
       "  <thead>\n",
       "    <tr style=\"text-align: right;\">\n",
       "      <th></th>\n",
       "      <th>mean</th>\n",
       "      <th>count</th>\n",
       "    </tr>\n",
       "    <tr>\n",
       "      <th>NAICS Code</th>\n",
       "      <th></th>\n",
       "      <th></th>\n",
       "    </tr>\n",
       "  </thead>\n",
       "  <tbody>\n",
       "    <tr>\n",
       "      <th>4800-4999</th>\n",
       "      <td>1640.224678</td>\n",
       "      <td>8145</td>\n",
       "    </tr>\n",
       "    <tr>\n",
       "      <th>7210-7219</th>\n",
       "      <td>2873.061359</td>\n",
       "      <td>3781</td>\n",
       "    </tr>\n",
       "    <tr>\n",
       "      <th>5100-5199</th>\n",
       "      <td>3267.203751</td>\n",
       "      <td>2719</td>\n",
       "    </tr>\n",
       "    <tr>\n",
       "      <th>7220-7229</th>\n",
       "      <td>3759.021558</td>\n",
       "      <td>7932</td>\n",
       "    </tr>\n",
       "    <tr>\n",
       "      <th>7100-7199</th>\n",
       "      <td>3859.813647</td>\n",
       "      <td>5232</td>\n",
       "    </tr>\n",
       "    <tr>\n",
       "      <th>5210-5239</th>\n",
       "      <td>4133.757452</td>\n",
       "      <td>3187</td>\n",
       "    </tr>\n",
       "    <tr>\n",
       "      <th>5400-5499</th>\n",
       "      <td>4198.385887</td>\n",
       "      <td>16821</td>\n",
       "    </tr>\n",
       "    <tr>\n",
       "      <th>2200-2299</th>\n",
       "      <td>4483.471698</td>\n",
       "      <td>106</td>\n",
       "    </tr>\n",
       "    <tr>\n",
       "      <th>2300-2399</th>\n",
       "      <td>4510.681965</td>\n",
       "      <td>5273</td>\n",
       "    </tr>\n",
       "    <tr>\n",
       "      <th>3100-3399</th>\n",
       "      <td>4626.179913</td>\n",
       "      <td>1384</td>\n",
       "    </tr>\n",
       "    <tr>\n",
       "      <th>8100-8399</th>\n",
       "      <td>4671.205601</td>\n",
       "      <td>3035</td>\n",
       "    </tr>\n",
       "    <tr>\n",
       "      <th>6100-6299</th>\n",
       "      <td>4827.066864</td>\n",
       "      <td>5743</td>\n",
       "    </tr>\n",
       "    <tr>\n",
       "      <th>4400-4599</th>\n",
       "      <td>4849.051195</td>\n",
       "      <td>9454</td>\n",
       "    </tr>\n",
       "    <tr>\n",
       "      <th>4200-4299</th>\n",
       "      <td>5228.547708</td>\n",
       "      <td>2662</td>\n",
       "    </tr>\n",
       "    <tr>\n",
       "      <th>5240-5249</th>\n",
       "      <td>5329.263258</td>\n",
       "      <td>528</td>\n",
       "    </tr>\n",
       "    <tr>\n",
       "      <th>5600-5699</th>\n",
       "      <td>5647.298484</td>\n",
       "      <td>2506</td>\n",
       "    </tr>\n",
       "    <tr>\n",
       "      <th>5300-5399</th>\n",
       "      <td>6870.932066</td>\n",
       "      <td>19828</td>\n",
       "    </tr>\n",
       "  </tbody>\n",
       "</table>\n",
       "</div>"
      ],
      "text/plain": [
       "                   mean  count\n",
       "NAICS Code                    \n",
       "4800-4999   1640.224678   8145\n",
       "7210-7219   2873.061359   3781\n",
       "5100-5199   3267.203751   2719\n",
       "7220-7229   3759.021558   7932\n",
       "7100-7199   3859.813647   5232\n",
       "5210-5239   4133.757452   3187\n",
       "5400-5499   4198.385887  16821\n",
       "2200-2299   4483.471698    106\n",
       "2300-2399   4510.681965   5273\n",
       "3100-3399   4626.179913   1384\n",
       "8100-8399   4671.205601   3035\n",
       "6100-6299   4827.066864   5743\n",
       "4400-4599   4849.051195   9454\n",
       "4200-4299   5228.547708   2662\n",
       "5240-5249   5329.263258    528\n",
       "5600-5699   5647.298484   2506\n",
       "5300-5399   6870.932066  19828"
      ]
     },
     "execution_count": 23,
     "metadata": {},
     "output_type": "execute_result"
    }
   ],
   "source": [
    "# What category is the youngest overall?\n",
    "naics.groupby('NAICS Code')['age'].agg(['mean', 'count']).sort_values('mean')"
   ]
  },
  {
   "cell_type": "code",
   "execution_count": 24,
   "metadata": {
    "ExecuteTime": {
     "end_time": "2018-05-08T22:56:19.486885Z",
     "start_time": "2018-05-08T22:56:19.407627Z"
    }
   },
   "outputs": [],
   "source": [
    "# Which category has the most new businesses?\n",
    "mask = naics['Business Start Date'] >= '2016-01-01'\n",
    "new = \\\n",
    "(naics[mask].groupby('NAICS Code')['age']\n",
    "            .agg(['mean', 'count'])\n",
    "            .sort_values('count', ascending=True)\n",
    "            .reset_index()\n",
    "            .rename(columns={'mean':'new_m', 'count':'new_c'})\n",
    ")\n",
    "\n",
    "# Comparisons over time\n",
    "mask = ((naics['Business Start Date'] < '2016-01-01') &\n",
    "        (naics['Business Start Date'] >= '2000-01-01'))\n",
    "mid = \\\n",
    "(naics[mask].groupby('NAICS Code')['age']\n",
    "            .agg(['mean', 'count'])\n",
    "            .sort_values('count', ascending=True)\n",
    "            .reset_index()\n",
    "            .rename(columns={'mean':'mid_m', 'count':'mid_c'})\n",
    ")\n",
    "\n",
    "\n",
    "# Comparisons over time\n",
    "mask = naics['Business Start Date'] < '2000-01-01'\n",
    "old = \\\n",
    "(naics[mask].groupby('NAICS Code')['age']\n",
    "            .agg(['mean', 'count'])\n",
    "            .sort_values('count', ascending=True)\n",
    "            .reset_index()\n",
    "            .rename(columns={'mean':'old_m', 'count':'old_c'})\n",
    ")"
   ]
  },
  {
   "cell_type": "code",
   "execution_count": 25,
   "metadata": {
    "ExecuteTime": {
     "end_time": "2018-05-08T22:56:20.091092Z",
     "start_time": "2018-05-08T22:56:19.489532Z"
    }
   },
   "outputs": [
    {
     "data": {
      "image/png": "[encoded data removed]",
      "text/plain": [
       "<matplotlib.figure.Figure at 0x116c8bfd0>"
      ]
     },
     "metadata": {},
     "output_type": "display_data"
    }
   ],
   "source": [
    "# Combining the time periods\n",
    "dfs = [new,mid,old]\n",
    "time = reduce(lambda left,right: pd.merge(left, right, on='NAICS Code'), dfs)\n",
    "\n",
    "# Plotting the raw counts to compare across time periods\n",
    "time.plot(x='NAICS Code', y=['old_c','mid_c','new_c'], kind='bar', \n",
    "          figsize=(10,5), rot=70, title='Counts of Businesses per Category');"
   ]
  },
  {
   "cell_type": "code",
   "execution_count": 26,
   "metadata": {
    "ExecuteTime": {
     "end_time": "2018-05-08T22:56:20.720737Z",
     "start_time": "2018-05-08T22:56:20.093729Z"
    }
   },
   "outputs": [
    {
     "data": {
      "image/png": "[encoded data removed]",
      "text/plain": [
       "<matplotlib.figure.Figure at 0x11f27ae48>"
      ]
     },
     "metadata": {},
     "output_type": "display_data"
    }
   ],
   "source": [
    "# Normalizing time period counts\n",
    "new.new_c = new.new_c/sum(new.new_c)\n",
    "mid.mid_c = mid.mid_c/sum(mid.mid_c)\n",
    "old.old_c = old.old_c/sum(old.old_c)\n",
    "\n",
    "dfs = [new,mid,old]\n",
    "time = reduce(lambda left,right: pd.merge(left, right, on='NAICS Code'), dfs)\n",
    "\n",
    "# Plotting the raw counts to compare across time periods\n",
    "time.plot(x='NAICS Code', y=['old_c','mid_c','new_c'], kind='bar', \n",
    "          figsize=(10,5), rot=70, title='Normalized Counts Over Time');"
   ]
  },
  {
   "cell_type": "markdown",
   "metadata": {},
   "source": [
    "The above makes assumptions that looking at percent of market is representative enough to draw conclusions. Below I will explain what would be a better approach.\n",
    "\n",
    "This normalized plot makes it easy to see that some categories have been on a steady decline and some have been on a steady increase.\n",
    "\n",
    "Most notably, Real Estate, Rental and Leasing Services [5300-5399] have seen the sharpest downtrend, whereas Transportation and Warehousing [4800-4999] experienced the greatest trend upwards.\n",
    "\n",
    "Declining:\n",
    "\n",
    "NAICS Code| Description\n",
    "---       | --- \n",
    "5240-5249 | Insurance\n",
    "3100-3399 |\tManufacturing\n",
    "4200-4299 |\tWholesale Trade\n",
    "6100-6299 |\tPrivate Education and Health Services\n",
    "5300-5399 | Real Estate and Rental and Leasing Services\n",
    "4400-4599 | Retail Trade\n",
    "\n",
    "Increasing:\n",
    "\n",
    "NAICS Code| Description\n",
    "---       | --- \n",
    "7210-7219 |\tAccommodations\n",
    "4800-4999 |\tTransportation and Warehousing\n",
    "\n",
    "Middleground:\n",
    "\n",
    "NAICS Code| Description\n",
    "---       | --- \n",
    "2200-2299 | Utilities\n",
    "5210-5239 |\tFinancial Services\n",
    "8100-8399 |\tCertain Services\n",
    "5100-5199 |\tInformation\n",
    "5600-5699 | Administrative and Support Services\n",
    "2300-2399 | Construction\n",
    "7100-7199 | Arts, Entertainment, and Recreation\n",
    "7220-7229 | Food Services\n",
    "5400-5499 | Professional, Scientific, and Technical Services"
   ]
  },
  {
   "cell_type": "markdown",
   "metadata": {},
   "source": [
    "### Q4\n",
    "These 3 time periods were picked arbitrarily for preliminary analysis. It would be better to break out each year and look at changes more granularly, also this does not take into account for businesses that may pop up for less than a year. If we wanted to make a policy change I would also ook into the survival of different businesses in each category.\n",
    "\n",
    "To go to the extreme I would like to visualize trends over time with a sliding controllable window in D3, which might be overkill but would be interesting to see. This idea could be combined with the heatmap and filters to create a full understanding of the data in both time and space.\n",
    "\n",
    "There were other cities included. If we were to clean the heck out of this dataset (or if it was actually complete) we could start looking at a larger area in more detail to find out which industries are moving in and which are moving out."
   ]
  },
  {
   "cell_type": "code",
   "execution_count": null,
   "metadata": {},
   "outputs": [],
   "source": []
  }
 ],
 "metadata": {
  "kernelspec": {
   "display_name": "Python 3",
   "language": "python",
   "name": "python3"
  },
  "language_info": {
   "codemirror_mode": {
    "name": "ipython",
    "version": 3
   },
   "file_extension": ".py",
   "mimetype": "text/x-python",
   "name": "python",
   "nbconvert_exporter": "python",
   "pygments_lexer": "ipython3",
   "version": "3.6.5"
  },
  "toc": {
   "nav_menu": {},
   "number_sections": true,
   "sideBar": true,
   "skip_h1_title": false,
   "title_cell": "Table of Contents",
   "title_sidebar": "Contents",
   "toc_cell": false,
   "toc_position": {},
   "toc_section_display": true,
   "toc_window_display": false
  }
 },
 "nbformat": 4,
 "nbformat_minor": 2
}
