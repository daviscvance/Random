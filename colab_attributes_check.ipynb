{
  "nbformat": 4,
  "nbformat_minor": 0,
  "metadata": {
    "colab": {
      "name": "attributes_check",
      "version": "0.3.2",
      "provenance": [],
      "include_colab_link": true
    },
    "kernelspec": {
      "name": "python2",
      "display_name": "Python 2"
    },
    "accelerator": "TPU"
  },
  "cells": [
    {
      "cell_type": "markdown",
      "metadata": {
        "id": "view-in-github",
        "colab_type": "text"
      },
      "source": [
        "<a href=\"https://colab.research.google.com/github/daviscvance/Random/blob/master/colab_attributes_check.ipynb\" target=\"_parent\"><img src=\"https://colab.research.google.com/assets/colab-badge.svg\" alt=\"Open In Colab\"/></a>"
      ]
    },
    {
      "metadata": {
        "id": "0SueOUeS8Xi3",
        "colab_type": "code",
        "colab": {}
      },
      "cell_type": "code",
      "source": [
        "from __future__ import absolute_import\n",
        "from __future__ import division\n",
        "from __future__ import print_function\n",
        "\n",
        "import re\n",
        "import subprocess\n",
        "\n",
        "\n",
        "def get_cpu_attributes():\n",
        "  \"\"\"Returns information about the CPU, assuming a linux platform.\n",
        "\n",
        "  Reads and parses the info in /proc/cpuinfo (on linux platforms) and returns\n",
        "  information about the processors.\n",
        "\n",
        "  If summary is set to True, assumes that all processors are identical, returns\n",
        "  the number of processors, the name of each processor, the number of cores per\n",
        "  processor, and the speed of each processor.\n",
        "\n",
        "  Returns:\n",
        "    A dictionary of key-value pairs stored in /proc/cpuinfo and a special key,\n",
        "    'summary' continaing summarized information in the following format:\n",
        "    {\n",
        "      'summary':{\n",
        "        'cpu_name': <the cpu name>,\n",
        "        'cpu_cores': <the number of cores per cpu>,\n",
        "        'cpu_count': <the total number of cpus>\n",
        "        'cpu_speed': <the speed per core per cpu>,\n",
        "      }\n",
        "      'key':<value>,\n",
        "      ...\n",
        "    }\n",
        "  \"\"\"\n",
        "  cpus = subprocess.check_output('cat /proc/cpuinfo', shell=True).split('\\n')\n",
        "  cpus = [re.sub(r'\\s', ' ', cpu) for cpu in cpus]\n",
        "  cpu_attributes = {}\n",
        "  for param in cpus:\n",
        "    try:\n",
        "      key, val = param.split(':')\n",
        "      key = key.strip()\n",
        "      val = val.strip()\n",
        "    except ValueError as e:\n",
        "      if e.args[0] == 'need more than 1 value to unpack':\n",
        "        continue\n",
        "      else:\n",
        "        raise ValueError(\n",
        "            'Could not extract key-value pair from cpu parameter {}'.format(\n",
        "                param\n",
        "            )\n",
        "        )\n",
        "    if key not in cpu_attributes:\n",
        "      cpu_attributes[key] = []\n",
        "    cpu_attributes[key].append(val)\n",
        "\n",
        "  num_cores = cpu_attributes['cpu cores'][0]\n",
        "  name = cpu_attributes['model name'][0]\n",
        "  speed = cpu_attributes['cpu MHz'][0]\n",
        "  num_cpus = len(cpu_attributes['cpu cores'])\n",
        "\n",
        "  cpu_attributes['summary'] = {\n",
        "      'cpu_cores': num_cores,\n",
        "      'cpu_name': name,\n",
        "      'cpu_speed': speed,\n",
        "      'cpu_count': num_cpus\n",
        "  }\n",
        "  return cpu_attributes\n",
        "\n",
        "\n",
        "def get_ram_attributes():\n",
        "  \"\"\"Returns the amount of ram on the computer where this script is run.\n",
        "\n",
        "  Assumes the host machine is linux-flavor, and reads ram info from the system\n",
        "  file /proc/meminfo. This file is parsed, and the total ram, free ram, and unit\n",
        "  of RAM is returned. If the unit of ram is known to be 'kB' it is converted to\n",
        "  Gigabytes, else whatever unit is found is returned.\n",
        "\n",
        "  Returns:\n",
        "    A dictionary of key-value pairs stored in /proc/meminfo and a special key,\n",
        "    'summary' continaing summarized information in the following format:\n",
        "    {\n",
        "      'summary':{\n",
        "        'ram_free': <the amount of free ram>,\n",
        "        'ram_total': <the total amount of ram>,\n",
        "        'ram_unit': <the unit of storage of ram>\n",
        "      }\n",
        "      'key':<value>,\n",
        "      ...\n",
        "    }\n",
        "  \"\"\"\n",
        "  ram = subprocess.check_output('cat /proc/meminfo', shell=True).split('\\n')\n",
        "\n",
        "  ram_attributes = {}\n",
        "  for param in ram:\n",
        "    try:\n",
        "      key_val = param.split(':')\n",
        "      key = key_val[0].strip()\n",
        "      val = key_val[1].strip()\n",
        "      ram_attributes[key] = val\n",
        "    except IndexError:\n",
        "      pass\n",
        "\n",
        "  unit = ram_attributes['MemAvailable'].split()[1].strip()\n",
        "  free = float(ram_attributes['MemAvailable'].split()[0].strip())\n",
        "  total = float(ram_attributes['MemTotal'].split()[0].strip())\n",
        "\n",
        "  gigabytes_per_kilobit = 1.25e-7\n",
        "\n",
        "  if unit == 'kB':\n",
        "    # assume meaning is kilobit\n",
        "    free = free * gigabytes_per_kilobit\n",
        "    total = total * gigabytes_per_kilobit\n",
        "    unit = 'Gigabyte'\n",
        "\n",
        "  ram_attributes['summary'] = {\n",
        "      'ram_free': free,\n",
        "      'ram_total': total,\n",
        "      'ram_unit': unit\n",
        "  }\n",
        "  return  ram_attributes\n"
      ],
      "execution_count": 0,
      "outputs": []
    },
    {
      "metadata": {
        "id": "5aaUk8H3FXP3",
        "colab_type": "code",
        "outputId": "13e3aded-b1eb-47d1-daf9-baa347547d80",
        "colab": {
          "base_uri": "https://localhost:8080/",
          "height": 641
        }
      },
      "cell_type": "code",
      "source": [
        "get_cpu_attributes()"
      ],
      "execution_count": 2,
      "outputs": [
        {
          "output_type": "execute_result",
          "data": {
            "text/plain": [
              "{'address sizes': ['46 bits physical, 48 bits virtual',\n",
              "  '46 bits physical, 48 bits virtual'],\n",
              " 'apicid': ['0', '1'],\n",
              " 'bogomips': ['4600.00', '4600.00'],\n",
              " 'bugs': ['cpu_meltdown spectre_v1 spectre_v2 spec_store_bypass l1tf',\n",
              "  'cpu_meltdown spectre_v1 spectre_v2 spec_store_bypass l1tf'],\n",
              " 'cache size': ['46080 KB', '46080 KB'],\n",
              " 'cache_alignment': ['64', '64'],\n",
              " 'clflush size': ['64', '64'],\n",
              " 'core id': ['0', '0'],\n",
              " 'cpu MHz': ['2300.000', '2300.000'],\n",
              " 'cpu cores': ['1', '1'],\n",
              " 'cpu family': ['6', '6'],\n",
              " 'cpuid level': ['13', '13'],\n",
              " 'flags': ['fpu vme de pse tsc msr pae mce cx8 apic sep mtrr pge mca cmov pat pse36 clflush mmx fxsr sse sse2 ss ht syscall nx pdpe1gb rdtscp lm constant_tsc rep_good nopl xtopology nonstop_tsc cpuid tsc_known_freq pni pclmulqdq ssse3 fma cx16 pcid sse4_1 sse4_2 x2apic movbe popcnt aes xsave avx f16c rdrand hypervisor lahf_lm abm invpcid_single pti ssbd ibrs ibpb stibp fsgsbase tsc_adjust bmi1 avx2 smep bmi2 erms invpcid xsaveopt arat arch_capabilities',\n",
              "  'fpu vme de pse tsc msr pae mce cx8 apic sep mtrr pge mca cmov pat pse36 clflush mmx fxsr sse sse2 ss ht syscall nx pdpe1gb rdtscp lm constant_tsc rep_good nopl xtopology nonstop_tsc cpuid tsc_known_freq pni pclmulqdq ssse3 fma cx16 pcid sse4_1 sse4_2 x2apic movbe popcnt aes xsave avx f16c rdrand hypervisor lahf_lm abm invpcid_single pti ssbd ibrs ibpb stibp fsgsbase tsc_adjust bmi1 avx2 smep bmi2 erms invpcid xsaveopt arat arch_capabilities'],\n",
              " 'fpu': ['yes', 'yes'],\n",
              " 'fpu_exception': ['yes', 'yes'],\n",
              " 'initial apicid': ['0', '1'],\n",
              " 'microcode': ['0x1', '0x1'],\n",
              " 'model': ['63', '63'],\n",
              " 'model name': ['Intel(R) Xeon(R) CPU @ 2.30GHz',\n",
              "  'Intel(R) Xeon(R) CPU @ 2.30GHz'],\n",
              " 'physical id': ['0', '0'],\n",
              " 'power management': ['', ''],\n",
              " 'processor': ['0', '1'],\n",
              " 'siblings': ['2', '2'],\n",
              " 'stepping': ['0', '0'],\n",
              " 'summary': {'cpu_cores': '1',\n",
              "  'cpu_count': 2,\n",
              "  'cpu_name': 'Intel(R) Xeon(R) CPU @ 2.30GHz',\n",
              "  'cpu_speed': '2300.000'},\n",
              " 'vendor_id': ['GenuineIntel', 'GenuineIntel'],\n",
              " 'wp': ['yes', 'yes']}"
            ]
          },
          "metadata": {
            "tags": []
          },
          "execution_count": 2
        }
      ]
    },
    {
      "metadata": {
        "id": "2I56L-NCFZNx",
        "colab_type": "code",
        "outputId": "2645ff86-703a-4279-f325-7fe3f4960f4a",
        "colab": {
          "base_uri": "https://localhost:8080/",
          "height": 870
        }
      },
      "cell_type": "code",
      "source": [
        "get_ram_attributes()"
      ],
      "execution_count": 3,
      "outputs": [
        {
          "output_type": "execute_result",
          "data": {
            "text/plain": [
              "{'Active': '532308 kB',\n",
              " 'Active(anon)': '280692 kB',\n",
              " 'Active(file)': '251616 kB',\n",
              " 'AnonHugePages': '0 kB',\n",
              " 'AnonPages': '298412 kB',\n",
              " 'Bounce': '0 kB',\n",
              " 'Buffers': '64572 kB',\n",
              " 'Cached': '1233740 kB',\n",
              " 'CommitLimit': '6667636 kB',\n",
              " 'Committed_AS': '1869516 kB',\n",
              " 'DirectMap1G': '10485760 kB',\n",
              " 'DirectMap2M': '5181440 kB',\n",
              " 'DirectMap4k': '61428 kB',\n",
              " 'Dirty': '248 kB',\n",
              " 'HugePages_Free': '0',\n",
              " 'HugePages_Rsvd': '0',\n",
              " 'HugePages_Surp': '0',\n",
              " 'HugePages_Total': '0',\n",
              " 'Hugepagesize': '2048 kB',\n",
              " 'Inactive': '1064328 kB',\n",
              " 'Inactive(anon)': '348 kB',\n",
              " 'Inactive(file)': '1063980 kB',\n",
              " 'KernelStack': '3872 kB',\n",
              " 'Mapped': '150216 kB',\n",
              " 'MemAvailable': '12638100 kB',\n",
              " 'MemFree': '11511932 kB',\n",
              " 'MemTotal': '13335276 kB',\n",
              " 'Mlocked': '0 kB',\n",
              " 'NFS_Unstable': '0 kB',\n",
              " 'PageTables': '4832 kB',\n",
              " 'SReclaimable': '103480 kB',\n",
              " 'SUnreclaim': '29156 kB',\n",
              " 'Shmem': '864 kB',\n",
              " 'ShmemHugePages': '0 kB',\n",
              " 'ShmemPmdMapped': '0 kB',\n",
              " 'Slab': '132636 kB',\n",
              " 'SwapCached': '0 kB',\n",
              " 'SwapFree': '0 kB',\n",
              " 'SwapTotal': '0 kB',\n",
              " 'Unevictable': '0 kB',\n",
              " 'VmallocChunk': '0 kB',\n",
              " 'VmallocTotal': '34359738367 kB',\n",
              " 'VmallocUsed': '0 kB',\n",
              " 'Writeback': '0 kB',\n",
              " 'WritebackTmp': '0 kB',\n",
              " 'summary': {'ram_free': 1.5797625,\n",
              "  'ram_total': 1.6669094999999998,\n",
              "  'ram_unit': 'Gigabyte'}}"
            ]
          },
          "metadata": {
            "tags": []
          },
          "execution_count": 3
        }
      ]
    },
    {
      "metadata": {
        "id": "Ab6r2lgQKv7A",
        "colab_type": "code",
        "colab": {}
      },
      "cell_type": "code",
      "source": [
        ""
      ],
      "execution_count": 0,
      "outputs": []
    }
  ]
}